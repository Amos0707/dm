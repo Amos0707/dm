{
 "cells": [
  {
   "cell_type": "code",
   "execution_count": 1,
   "metadata": {},
   "outputs": [],
   "source": [
    "import numpy as np\n",
    "import pandas as pd\n",
    "from sklearn.preprocessing import LabelEncoder,OneHotEncoder,StandardScaler\n",
    "from sklearn.compose import ColumnTransformer\n",
    "from sklearn.model_selection import train_test_split"
   ]
  },
  {
   "cell_type": "code",
   "execution_count": 2,
   "metadata": {},
   "outputs": [
    {
     "data": {
      "text/html": [
       "<div>\n",
       "<style scoped>\n",
       "    .dataframe tbody tr th:only-of-type {\n",
       "        vertical-align: middle;\n",
       "    }\n",
       "\n",
       "    .dataframe tbody tr th {\n",
       "        vertical-align: top;\n",
       "    }\n",
       "\n",
       "    .dataframe thead th {\n",
       "        text-align: right;\n",
       "    }\n",
       "</style>\n",
       "<table border=\"1\" class=\"dataframe\">\n",
       "  <thead>\n",
       "    <tr style=\"text-align: right;\">\n",
       "      <th></th>\n",
       "      <th>Index</th>\n",
       "      <th>region</th>\n",
       "      <th>online shopper</th>\n",
       "      <th>age</th>\n",
       "      <th>salary</th>\n",
       "    </tr>\n",
       "  </thead>\n",
       "  <tbody>\n",
       "    <tr>\n",
       "      <th>0</th>\n",
       "      <td>0</td>\n",
       "      <td>ind</td>\n",
       "      <td>yes</td>\n",
       "      <td>25.0</td>\n",
       "      <td>35000.0</td>\n",
       "    </tr>\n",
       "    <tr>\n",
       "      <th>1</th>\n",
       "      <td>1</td>\n",
       "      <td>bra</td>\n",
       "      <td>no</td>\n",
       "      <td>27.0</td>\n",
       "      <td>40000.0</td>\n",
       "    </tr>\n",
       "    <tr>\n",
       "      <th>2</th>\n",
       "      <td>2</td>\n",
       "      <td>usa</td>\n",
       "      <td>yes</td>\n",
       "      <td>50.0</td>\n",
       "      <td>54000.0</td>\n",
       "    </tr>\n",
       "    <tr>\n",
       "      <th>3</th>\n",
       "      <td>3</td>\n",
       "      <td>bra</td>\n",
       "      <td>yes</td>\n",
       "      <td>35.0</td>\n",
       "      <td>NaN</td>\n",
       "    </tr>\n",
       "    <tr>\n",
       "      <th>4</th>\n",
       "      <td>4</td>\n",
       "      <td>ind</td>\n",
       "      <td>no</td>\n",
       "      <td>40.0</td>\n",
       "      <td>60000.0</td>\n",
       "    </tr>\n",
       "    <tr>\n",
       "      <th>5</th>\n",
       "      <td>5</td>\n",
       "      <td>usa</td>\n",
       "      <td>no</td>\n",
       "      <td>35.0</td>\n",
       "      <td>58000.0</td>\n",
       "    </tr>\n",
       "    <tr>\n",
       "      <th>6</th>\n",
       "      <td>6</td>\n",
       "      <td>bra</td>\n",
       "      <td>yes</td>\n",
       "      <td>NaN</td>\n",
       "      <td>52000.0</td>\n",
       "    </tr>\n",
       "    <tr>\n",
       "      <th>7</th>\n",
       "      <td>7</td>\n",
       "      <td>ind</td>\n",
       "      <td>no</td>\n",
       "      <td>48.0</td>\n",
       "      <td>79000.0</td>\n",
       "    </tr>\n",
       "    <tr>\n",
       "      <th>8</th>\n",
       "      <td>8</td>\n",
       "      <td>usa</td>\n",
       "      <td>yes</td>\n",
       "      <td>50.0</td>\n",
       "      <td>83000.0</td>\n",
       "    </tr>\n",
       "    <tr>\n",
       "      <th>9</th>\n",
       "      <td>9</td>\n",
       "      <td>ind</td>\n",
       "      <td>no</td>\n",
       "      <td>37.0</td>\n",
       "      <td>NaN</td>\n",
       "    </tr>\n",
       "    <tr>\n",
       "      <th>10</th>\n",
       "      <td>10</td>\n",
       "      <td>bra</td>\n",
       "      <td>yes</td>\n",
       "      <td>21.0</td>\n",
       "      <td>24000.0</td>\n",
       "    </tr>\n",
       "    <tr>\n",
       "      <th>11</th>\n",
       "      <td>11</td>\n",
       "      <td>ind</td>\n",
       "      <td>yes</td>\n",
       "      <td>NaN</td>\n",
       "      <td>60000.0</td>\n",
       "    </tr>\n",
       "    <tr>\n",
       "      <th>12</th>\n",
       "      <td>12</td>\n",
       "      <td>usa</td>\n",
       "      <td>no</td>\n",
       "      <td>63.0</td>\n",
       "      <td>70000.0</td>\n",
       "    </tr>\n",
       "  </tbody>\n",
       "</table>\n",
       "</div>"
      ],
      "text/plain": [
       "    Index region online shopper   age   salary\n",
       "0       0    ind            yes  25.0  35000.0\n",
       "1       1    bra             no  27.0  40000.0\n",
       "2       2    usa            yes  50.0  54000.0\n",
       "3       3    bra            yes  35.0      NaN\n",
       "4       4   ind              no  40.0  60000.0\n",
       "5       5    usa             no  35.0  58000.0\n",
       "6       6    bra            yes   NaN  52000.0\n",
       "7       7    ind             no  48.0  79000.0\n",
       "8       8    usa            yes  50.0  83000.0\n",
       "9       9    ind             no  37.0      NaN\n",
       "10     10    bra            yes  21.0  24000.0\n",
       "11     11    ind            yes   NaN  60000.0\n",
       "12     12    usa             no  63.0  70000.0"
      ]
     },
     "execution_count": 2,
     "metadata": {},
     "output_type": "execute_result"
    }
   ],
   "source": [
    "dataset = pd.read_csv(\"dataset.csv\")\n",
    "dataset"
   ]
  },
  {
   "cell_type": "code",
   "execution_count": 3,
   "metadata": {},
   "outputs": [
    {
     "data": {
      "text/plain": [
       "array([[0, 'yes', 25.0],\n",
       "       [1, 'no', 27.0],\n",
       "       [2, 'yes', 50.0],\n",
       "       [3, 'yes', 35.0],\n",
       "       [4, 'no', 40.0],\n",
       "       [5, 'no', 35.0],\n",
       "       [6, 'yes', nan],\n",
       "       [7, 'no', 48.0],\n",
       "       [8, 'yes', 50.0],\n",
       "       [9, 'no', 37.0],\n",
       "       [10, 'yes', 21.0],\n",
       "       [11, 'yes', nan],\n",
       "       [12, 'no', 63.0]], dtype=object)"
      ]
     },
     "execution_count": 3,
     "metadata": {},
     "output_type": "execute_result"
    }
   ],
   "source": [
    "x = dataset.iloc[:,[0,2,3]].values\n",
    "\n",
    "x"
   ]
  },
  {
   "cell_type": "code",
   "execution_count": 4,
   "metadata": {},
   "outputs": [
    {
     "data": {
      "text/plain": [
       "array(['ind', 'bra', 'usa', 'bra', 'ind ', 'usa', 'bra', 'ind', 'usa',\n",
       "       'ind', 'bra', 'ind', 'usa'], dtype=object)"
      ]
     },
     "execution_count": 4,
     "metadata": {},
     "output_type": "execute_result"
    }
   ],
   "source": [
    "y = dataset.iloc[:,1].values\n",
    "\n",
    "y"
   ]
  },
  {
   "cell_type": "code",
   "execution_count": 5,
   "metadata": {},
   "outputs": [
    {
     "data": {
      "text/plain": [
       "array([[0.0, 1.0, 0, 25.0],\n",
       "       [1.0, 0.0, 1, 27.0],\n",
       "       [0.0, 1.0, 2, 50.0],\n",
       "       [0.0, 1.0, 3, 35.0],\n",
       "       [1.0, 0.0, 4, 40.0],\n",
       "       [1.0, 0.0, 5, 35.0],\n",
       "       [0.0, 1.0, 6, nan],\n",
       "       [1.0, 0.0, 7, 48.0],\n",
       "       [0.0, 1.0, 8, 50.0],\n",
       "       [1.0, 0.0, 9, 37.0],\n",
       "       [0.0, 1.0, 10, 21.0],\n",
       "       [0.0, 1.0, 11, nan],\n",
       "       [1.0, 0.0, 12, 63.0]], dtype=object)"
      ]
     },
     "execution_count": 5,
     "metadata": {},
     "output_type": "execute_result"
    }
   ],
   "source": [
    "ct = ColumnTransformer([(\"country\",OneHotEncoder(),[1])],remainder='passthrough')\n",
    "\n",
    "x = ct.fit_transform(x)\n",
    "x"
   ]
  },
  {
   "cell_type": "code",
   "execution_count": 6,
   "metadata": {},
   "outputs": [
    {
     "data": {
      "text/plain": [
       "array([[0.0, 1.0, 0, 25.0],\n",
       "       [1.0, 0.0, 1, 27.0],\n",
       "       [0.0, 1.0, 2, 50.0],\n",
       "       [0.0, 1.0, 3, 35.0],\n",
       "       [1.0, 0.0, 4, 40.0],\n",
       "       [1.0, 0.0, 5, 35.0],\n",
       "       [0.0, 1.0, 6, nan],\n",
       "       [1.0, 0.0, 7, 48.0],\n",
       "       [0.0, 1.0, 8, 50.0],\n",
       "       [1.0, 0.0, 9, 37.0],\n",
       "       [0.0, 1.0, 10, 21.0],\n",
       "       [0.0, 1.0, 11, nan],\n",
       "       [1.0, 0.0, 12, 63.0]], dtype=object)"
      ]
     },
     "execution_count": 6,
     "metadata": {},
     "output_type": "execute_result"
    }
   ],
   "source": [
    "LabelEncoder_x = LabelEncoder()\n",
    "\n",
    "x[:,2] = LabelEncoder_x.fit_transform(x[:,2])\n",
    "\n",
    "x"
   ]
  },
  {
   "cell_type": "code",
   "execution_count": 7,
   "metadata": {},
   "outputs": [],
   "source": [
    "X_train,X_test,Y_train,y_test = train_test_split(x,y,test_size=0.3,random_state=0)"
   ]
  },
  {
   "cell_type": "code",
   "execution_count": 8,
   "metadata": {},
   "outputs": [],
   "source": [
    "sc_X = StandardScaler()\n",
    "\n",
    "X_train = sc_X.fit_transform(X_train)\n",
    "\n",
    "X_test = sc_X.transform(X_test)\n",
    "\n",
    "sc_y = StandardScaler()\n",
    "\n",
    "#Y_train = Y_train.reshape((len(Y_train), 1))\n",
    "\n",
    "#Y_train = sc_y.fit_transform(Y_train)\n",
    "\n",
    "Y_train = Y_train.ravel()"
   ]
  },
  {
   "cell_type": "code",
   "execution_count": 9,
   "metadata": {},
   "outputs": [
    {
     "data": {
      "text/plain": [
       "array(['usa', 'usa', 'bra', 'ind', 'ind', 'bra', 'ind', 'usa', 'usa'],\n",
       "      dtype=object)"
      ]
     },
     "execution_count": 9,
     "metadata": {},
     "output_type": "execute_result"
    }
   ],
   "source": [
    "Y_train"
   ]
  }
 ],
 "metadata": {
  "kernelspec": {
   "display_name": "Python 3",
   "language": "python",
   "name": "python3"
  },
  "language_info": {
   "codemirror_mode": {
    "name": "ipython",
    "version": 3
   },
   "file_extension": ".py",
   "mimetype": "text/x-python",
   "name": "python",
   "nbconvert_exporter": "python",
   "pygments_lexer": "ipython3",
   "version": "3.10.5"
  },
  "orig_nbformat": 4,
  "vscode": {
   "interpreter": {
    "hash": "26de051ba29f2982a8de78e945f0abaf191376122a1563185a90213a26c5da77"
   }
  }
 },
 "nbformat": 4,
 "nbformat_minor": 2
}
